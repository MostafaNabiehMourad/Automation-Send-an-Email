{
  "nbformat": 4,
  "nbformat_minor": 0,
  "metadata": {
    "colab": {
      "name": "Automation Send Email .ipynb",
      "provenance": []
    },
    "kernelspec": {
      "name": "python3",
      "display_name": "Python 3"
    },
    "language_info": {
      "name": "python"
    }
  },
  "cells": [
    {
      "cell_type": "code",
      "metadata": {
        "id": "Po_PSyESsTk3"
      },
      "source": [
        "import requests"
      ],
      "execution_count": null,
      "outputs": []
    },
    {
      "cell_type": "code",
      "metadata": {
        "id": "9x2hsjEVsf2q"
      },
      "source": [
        "from bs4 import BeautifulSoup\n",
        "import smtplib"
      ],
      "execution_count": null,
      "outputs": []
    },
    {
      "cell_type": "code",
      "metadata": {
        "id": "vL3rht5vspDp"
      },
      "source": [
        "from email.mime.multipart import MIMEMultipart\n",
        "from email.mime.text import MIMEText"
      ],
      "execution_count": null,
      "outputs": []
    },
    {
      "cell_type": "code",
      "metadata": {
        "id": "P9AYHe4Os2YG"
      },
      "source": [
        "import datetime"
      ],
      "execution_count": null,
      "outputs": []
    },
    {
      "cell_type": "code",
      "metadata": {
        "id": "v6y8zV28s4yC"
      },
      "source": [
        "now = datetime.datetime.now()"
      ],
      "execution_count": null,
      "outputs": []
    },
    {
      "cell_type": "code",
      "metadata": {
        "colab": {
          "base_uri": "https://localhost:8080/"
        },
        "id": "7BRNjyhds-7K",
        "outputId": "f3791782-729c-4a70-eedd-02aee2682d60"
      },
      "source": [
        "now"
      ],
      "execution_count": null,
      "outputs": [
        {
          "output_type": "execute_result",
          "data": {
            "text/plain": [
              "datetime.datetime(2021, 11, 10, 11, 55, 27, 347555)"
            ]
          },
          "metadata": {},
          "execution_count": 6
        }
      ]
    },
    {
      "cell_type": "code",
      "metadata": {
        "id": "ttEUKTwPs_oV"
      },
      "source": [
        "content = ''"
      ],
      "execution_count": null,
      "outputs": []
    },
    {
      "cell_type": "code",
      "metadata": {
        "id": "tKWn66M3tFmk"
      },
      "source": [
        "def extract_news(url):\n",
        "    print('Extracting Hacker News Stories...')\n",
        "    cnt = ''\n",
        "    cnt +=('<b>HN Top Stories:</b>\\n'+'<br>'+'-'*50+'<br>')\n",
        "    response = requests.get(url)\n",
        "    content = response.content\n",
        "    soup = BeautifulSoup(content,'html.parser')\n",
        "    for i,tag in enumerate(soup.find_all('td',attrs={'class':'title','valign':''})):\n",
        "        cnt += ((str(i+1)+' :: '+tag.text + \"\\n\" + '<br>') if tag.text!='More' else '')\n",
        "        #print(tag.prettify) #find_all('span',attrs={'class':'sitestr'}))\n",
        "    return(cnt)"
      ],
      "execution_count": null,
      "outputs": []
    },
    {
      "cell_type": "code",
      "metadata": {
        "colab": {
          "base_uri": "https://localhost:8080/"
        },
        "id": "aTEcs0kNuF1L",
        "outputId": "867b52e9-5b5c-4c99-f119-693209cf446c"
      },
      "source": [
        "cnt = extract_news('https://news.ycombinator.com/')\n",
        "content += cnt\n",
        "content += ('<br>------<br>')\n",
        "content +=('<br><br>End of Message')"
      ],
      "execution_count": null,
      "outputs": [
        {
          "output_type": "stream",
          "name": "stdout",
          "text": [
            "Extracting Hacker News Stories...\n"
          ]
        }
      ]
    },
    {
      "cell_type": "code",
      "metadata": {
        "colab": {
          "base_uri": "https://localhost:8080/",
          "height": 154
        },
        "id": "CFVGJWbsuzGJ",
        "outputId": "495d0a98-b729-472b-91e4-413d438ff60e"
      },
      "source": [
        "content"
      ],
      "execution_count": null,
      "outputs": [
        {
          "output_type": "execute_result",
          "data": {
            "application/vnd.google.colaboratory.intrinsic+json": {
              "type": "string"
            },
            "text/plain": [
              "\"<b>HN Top Stories:</b>\\n<br>--------------------------------------------------<br>1 :: Standardized Brain Molecular Atlas for Systems Modeling and Simulation (frontiersin.org)\\n<br>2 :: Cave-Link: Underground text communication system (cavelink.com)\\n<br>3 :: An original Apple-1 computer sells for $400k (npr.org)\\n<br>4 :: The Invisible JavaScript Backdoor (certitude.consulting)\\n<br>5 :: Show HN: I'm 48 and finally learning how to be a game developer (apps.apple.com)\\n<br>6 :: Rescale (YC W12) Is Hiring Software Engineers (lever.co)\\n<br>7 :: Kite Turbines (windswept-and-interesting.co.uk)\\n<br>8 :: Thousands of phone boxes around the UK will be protected from closure (ofcom.org.uk)\\n<br>9 :: PyGaze – open-source eye-tracking software and more (pygaze.org)\\n<br>10 :: “This project will only take 2 hours” (utk.edu)\\n<br>11 :: Atacama Desert: The Ancient, Alien Landscape of Northern Chile (allthatsinteresting.com)\\n<br>12 :: Rows.com: Yahoo Pipes on Spreadsheets (rows.com)\\n<br>13 :: A no-go fantasy: writing Go in Ruby with Ruby Next (evilmartians.com)\\n<br>14 :: Write thin to write fast (breckyunits.com)\\n<br>15 :: Ask HN: How do you manage your personal documents?\\n<br>16 :: AirCover by Airbnb (airbnb.com)\\n<br>17 :: DoorDash Joins Forces with Wolt (doordash.com)\\n<br>18 :: OpenBOR – 2D side scrolling engine for beat em' ups, shooters, and more (github.com/dcurrent)\\n<br>19 :: The Costs of Requiring Accounts (mako.cc)\\n<br>20 :: LAPD ended predictive policing. A new effort shares many of their flaws (theguardian.com)\\n<br>21 :: Google sends anti-regulation propaganda to small businesses using Google Maps (arstechnica.com)\\n<br>22 :: The Polarization Spiral (persuasion.community)\\n<br>23 :: Using Flutter to build a native-looking desktop app for macOS and Windows (whidev.com)\\n<br>24 :: The Surreal Horror of Pam (christine.website)\\n<br>25 :: Safari Ruined My Tuesday (fly.io)\\n<br>26 :: Why Python needs to be paused during profiling – but Ruby doesn't always (benfrederickson.com)\\n<br>27 :: DARPA has caught a Gremlin drone in midair (defensenews.com)\\n<br>28 :: We saved millions in SSD costs by upgrading our filesystem (heap.io)\\n<br>29 :: Judge orders Apple to allow external payment options for App Store (theverge.com)\\n<br>30 :: Binary Reversing Methodologies (justintaft.com)\\n<br><br>------<br><br><br>End of Message\""
            ]
          },
          "metadata": {},
          "execution_count": 10
        }
      ]
    },
    {
      "cell_type": "code",
      "metadata": {
        "colab": {
          "base_uri": "https://localhost:8080/"
        },
        "id": "dMIgFW7hu0rW",
        "outputId": "d72dc5d3-20a6-4b90-d336-28a2438b7ba9"
      },
      "source": [
        "#lets send the email\n",
        "\n",
        "print('Composing Email...')\n",
        "\n",
        "# update your email details\n",
        "# make sure to update the Google Low App Access settings before\n",
        "\n",
        "SERVER = 'smtp.gmail.com' # \"your smtp server\"\n",
        "PORT = 587 # your port number\n",
        "FROM =  '****' # \"your from email id\"\n",
        "TO = '**********' # \"your to email ids\"  # can be a list\n",
        "PASS = '******' # \"your email id's password\""
      ],
      "execution_count": null,
      "outputs": [
        {
          "output_type": "stream",
          "name": "stdout",
          "text": [
            "Composing Email...\n"
          ]
        }
      ]
    },
    {
      "cell_type": "code",
      "metadata": {
        "id": "5G4_W6eqvcsb"
      },
      "source": [
        "# fp = open(file_name, 'rb')\n",
        "# Create a text/plain message\n",
        "# msg = MIMEText('')\n",
        "msg = MIMEMultipart()\n",
        "\n",
        "# msg.add_header('Content-Disposition', 'attachment', filename='empty.txt')\n",
        "msg['Subject'] = 'Test News' + ' ' + str(now.day) + '-' + str(now.month) + '-' + str(\n",
        "    now.year)\n",
        "msg['From'] = FROM\n",
        "msg['To'] = TO"
      ],
      "execution_count": null,
      "outputs": []
    },
    {
      "cell_type": "code",
      "metadata": {
        "id": "PfAr-fcevlh6"
      },
      "source": [
        "msg.attach(MIMEText(content, 'html'))\n",
        "# fp.close()\n",
        "\n",
        "print('Initiating Server...')\n",
        "\n",
        "server = smtplib.SMTP(SERVER, PORT)\n",
        "#server = smtplib.SMTP_SSL('smtp.gmail.com', 465)\n",
        "server.set_debuglevel(1)\n",
        "server.ehlo()\n",
        "server.starttls()\n",
        "#server.ehlo\n",
        "server.login(FROM, PASS)\n",
        "server.sendmail(FROM, TO, msg.as_string())\n",
        "\n",
        "print('Email Sent...')\n",
        "\n",
        "server.quit()\n"
      ],
      "execution_count": null,
      "outputs": []
    },
    {
      "cell_type": "code",
      "metadata": {
        "id": "xWNe3GXDvnGY"
      },
      "source": [
        ""
      ],
      "execution_count": null,
      "outputs": []
    }
  ]
}